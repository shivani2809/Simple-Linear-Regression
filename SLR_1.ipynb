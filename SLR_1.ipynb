{
 "cells": [
  {
   "cell_type": "markdown",
   "id": "44c2233f",
   "metadata": {},
   "source": [
    "# Delivery Time Data"
   ]
  },
  {
   "cell_type": "code",
   "execution_count": 1,
   "id": "944f8538",
   "metadata": {},
   "outputs": [],
   "source": [
    "# importing libraries\n",
    "import pandas as pd\n",
    "import numpy as np\n",
    "import seaborn as sns\n",
    "import matplotlib.pyplot as plt\n",
    "import statsmodels.formula.api as smf\n",
    "import scipy.stats as stats\n",
    "from sklearn.preprocessing import FunctionTransformer"
   ]
  },
  {
   "cell_type": "code",
   "execution_count": 2,
   "id": "e58e4d52",
   "metadata": {},
   "outputs": [],
   "source": [
    "# 1) Delivery_time -> Predict delivery time using sorting time\n",
    "data1=pd.read_csv('delivery_time.csv')"
   ]
  },
  {
   "cell_type": "code",
   "execution_count": 3,
   "id": "4f93aa30",
   "metadata": {},
   "outputs": [
    {
     "data": {
      "text/html": [
       "<div>\n",
       "<style scoped>\n",
       "    .dataframe tbody tr th:only-of-type {\n",
       "        vertical-align: middle;\n",
       "    }\n",
       "\n",
       "    .dataframe tbody tr th {\n",
       "        vertical-align: top;\n",
       "    }\n",
       "\n",
       "    .dataframe thead th {\n",
       "        text-align: right;\n",
       "    }\n",
       "</style>\n",
       "<table border=\"1\" class=\"dataframe\">\n",
       "  <thead>\n",
       "    <tr style=\"text-align: right;\">\n",
       "      <th></th>\n",
       "      <th>Delivery Time</th>\n",
       "      <th>Sorting Time</th>\n",
       "    </tr>\n",
       "  </thead>\n",
       "  <tbody>\n",
       "    <tr>\n",
       "      <th>0</th>\n",
       "      <td>21.00</td>\n",
       "      <td>10</td>\n",
       "    </tr>\n",
       "    <tr>\n",
       "      <th>1</th>\n",
       "      <td>13.50</td>\n",
       "      <td>4</td>\n",
       "    </tr>\n",
       "    <tr>\n",
       "      <th>2</th>\n",
       "      <td>19.75</td>\n",
       "      <td>6</td>\n",
       "    </tr>\n",
       "    <tr>\n",
       "      <th>3</th>\n",
       "      <td>24.00</td>\n",
       "      <td>9</td>\n",
       "    </tr>\n",
       "    <tr>\n",
       "      <th>4</th>\n",
       "      <td>29.00</td>\n",
       "      <td>10</td>\n",
       "    </tr>\n",
       "  </tbody>\n",
       "</table>\n",
       "</div>"
      ],
      "text/plain": [
       "   Delivery Time  Sorting Time\n",
       "0          21.00            10\n",
       "1          13.50             4\n",
       "2          19.75             6\n",
       "3          24.00             9\n",
       "4          29.00            10"
      ]
     },
     "execution_count": 3,
     "metadata": {},
     "output_type": "execute_result"
    }
   ],
   "source": [
    "data1.head()"
   ]
  },
  {
   "cell_type": "code",
   "execution_count": 4,
   "id": "9e9ae6f7",
   "metadata": {},
   "outputs": [
    {
     "data": {
      "text/html": [
       "<div>\n",
       "<style scoped>\n",
       "    .dataframe tbody tr th:only-of-type {\n",
       "        vertical-align: middle;\n",
       "    }\n",
       "\n",
       "    .dataframe tbody tr th {\n",
       "        vertical-align: top;\n",
       "    }\n",
       "\n",
       "    .dataframe thead th {\n",
       "        text-align: right;\n",
       "    }\n",
       "</style>\n",
       "<table border=\"1\" class=\"dataframe\">\n",
       "  <thead>\n",
       "    <tr style=\"text-align: right;\">\n",
       "      <th></th>\n",
       "      <th>delivery_time</th>\n",
       "      <th>sorting_time</th>\n",
       "    </tr>\n",
       "  </thead>\n",
       "  <tbody>\n",
       "    <tr>\n",
       "      <th>0</th>\n",
       "      <td>21.00</td>\n",
       "      <td>10</td>\n",
       "    </tr>\n",
       "    <tr>\n",
       "      <th>1</th>\n",
       "      <td>13.50</td>\n",
       "      <td>4</td>\n",
       "    </tr>\n",
       "    <tr>\n",
       "      <th>2</th>\n",
       "      <td>19.75</td>\n",
       "      <td>6</td>\n",
       "    </tr>\n",
       "    <tr>\n",
       "      <th>3</th>\n",
       "      <td>24.00</td>\n",
       "      <td>9</td>\n",
       "    </tr>\n",
       "    <tr>\n",
       "      <th>4</th>\n",
       "      <td>29.00</td>\n",
       "      <td>10</td>\n",
       "    </tr>\n",
       "  </tbody>\n",
       "</table>\n",
       "</div>"
      ],
      "text/plain": [
       "   delivery_time  sorting_time\n",
       "0          21.00            10\n",
       "1          13.50             4\n",
       "2          19.75             6\n",
       "3          24.00             9\n",
       "4          29.00            10"
      ]
     },
     "execution_count": 4,
     "metadata": {},
     "output_type": "execute_result"
    }
   ],
   "source": [
    "data1_pd = pd.DataFrame(data1)\n",
    "data1_pd.rename(columns = {'Delivery Time':'delivery_time','Sorting Time':'sorting_time'}, inplace = True)\n",
    "data1_pd.head()"
   ]
  },
  {
   "cell_type": "code",
   "execution_count": 5,
   "id": "fbeb4ca4",
   "metadata": {},
   "outputs": [
    {
     "data": {
      "text/plain": [
       "(21, 2)"
      ]
     },
     "execution_count": 5,
     "metadata": {},
     "output_type": "execute_result"
    }
   ],
   "source": [
    "data1_pd.shape"
   ]
  },
  {
   "cell_type": "code",
   "execution_count": 6,
   "id": "df9865d8",
   "metadata": {},
   "outputs": [
    {
     "name": "stdout",
     "output_type": "stream",
     "text": [
      "<class 'pandas.core.frame.DataFrame'>\n",
      "RangeIndex: 21 entries, 0 to 20\n",
      "Data columns (total 2 columns):\n",
      " #   Column         Non-Null Count  Dtype  \n",
      "---  ------         --------------  -----  \n",
      " 0   delivery_time  21 non-null     float64\n",
      " 1   sorting_time   21 non-null     int64  \n",
      "dtypes: float64(1), int64(1)\n",
      "memory usage: 468.0 bytes\n"
     ]
    }
   ],
   "source": [
    "data1_pd.info()   #no missing values"
   ]
  },
  {
   "cell_type": "code",
   "execution_count": 7,
   "id": "be1cfa98",
   "metadata": {},
   "outputs": [
    {
     "data": {
      "text/html": [
       "<div>\n",
       "<style scoped>\n",
       "    .dataframe tbody tr th:only-of-type {\n",
       "        vertical-align: middle;\n",
       "    }\n",
       "\n",
       "    .dataframe tbody tr th {\n",
       "        vertical-align: top;\n",
       "    }\n",
       "\n",
       "    .dataframe thead th {\n",
       "        text-align: right;\n",
       "    }\n",
       "</style>\n",
       "<table border=\"1\" class=\"dataframe\">\n",
       "  <thead>\n",
       "    <tr style=\"text-align: right;\">\n",
       "      <th></th>\n",
       "      <th>delivery_time</th>\n",
       "      <th>sorting_time</th>\n",
       "    </tr>\n",
       "  </thead>\n",
       "  <tbody>\n",
       "    <tr>\n",
       "      <th>count</th>\n",
       "      <td>21.000000</td>\n",
       "      <td>21.000000</td>\n",
       "    </tr>\n",
       "    <tr>\n",
       "      <th>mean</th>\n",
       "      <td>16.790952</td>\n",
       "      <td>6.190476</td>\n",
       "    </tr>\n",
       "    <tr>\n",
       "      <th>std</th>\n",
       "      <td>5.074901</td>\n",
       "      <td>2.542028</td>\n",
       "    </tr>\n",
       "    <tr>\n",
       "      <th>min</th>\n",
       "      <td>8.000000</td>\n",
       "      <td>2.000000</td>\n",
       "    </tr>\n",
       "    <tr>\n",
       "      <th>25%</th>\n",
       "      <td>13.500000</td>\n",
       "      <td>4.000000</td>\n",
       "    </tr>\n",
       "    <tr>\n",
       "      <th>50%</th>\n",
       "      <td>17.830000</td>\n",
       "      <td>6.000000</td>\n",
       "    </tr>\n",
       "    <tr>\n",
       "      <th>75%</th>\n",
       "      <td>19.750000</td>\n",
       "      <td>8.000000</td>\n",
       "    </tr>\n",
       "    <tr>\n",
       "      <th>max</th>\n",
       "      <td>29.000000</td>\n",
       "      <td>10.000000</td>\n",
       "    </tr>\n",
       "  </tbody>\n",
       "</table>\n",
       "</div>"
      ],
      "text/plain": [
       "       delivery_time  sorting_time\n",
       "count      21.000000     21.000000\n",
       "mean       16.790952      6.190476\n",
       "std         5.074901      2.542028\n",
       "min         8.000000      2.000000\n",
       "25%        13.500000      4.000000\n",
       "50%        17.830000      6.000000\n",
       "75%        19.750000      8.000000\n",
       "max        29.000000     10.000000"
      ]
     },
     "execution_count": 7,
     "metadata": {},
     "output_type": "execute_result"
    }
   ],
   "source": [
    "data1_pd.describe()"
   ]
  },
  {
   "cell_type": "code",
   "execution_count": 8,
   "id": "392c133b",
   "metadata": {},
   "outputs": [
    {
     "data": {
      "text/html": [
       "<div>\n",
       "<style scoped>\n",
       "    .dataframe tbody tr th:only-of-type {\n",
       "        vertical-align: middle;\n",
       "    }\n",
       "\n",
       "    .dataframe tbody tr th {\n",
       "        vertical-align: top;\n",
       "    }\n",
       "\n",
       "    .dataframe thead th {\n",
       "        text-align: right;\n",
       "    }\n",
       "</style>\n",
       "<table border=\"1\" class=\"dataframe\">\n",
       "  <thead>\n",
       "    <tr style=\"text-align: right;\">\n",
       "      <th></th>\n",
       "      <th>delivery_time</th>\n",
       "      <th>sorting_time</th>\n",
       "    </tr>\n",
       "  </thead>\n",
       "  <tbody>\n",
       "  </tbody>\n",
       "</table>\n",
       "</div>"
      ],
      "text/plain": [
       "Empty DataFrame\n",
       "Columns: [delivery_time, sorting_time]\n",
       "Index: []"
      ]
     },
     "execution_count": 8,
     "metadata": {},
     "output_type": "execute_result"
    }
   ],
   "source": [
    "data1_pd[data1_pd.duplicated()] #no duplicates"
   ]
  },
  {
   "cell_type": "code",
   "execution_count": 9,
   "id": "79389bdd",
   "metadata": {},
   "outputs": [
    {
     "data": {
      "text/plain": [
       "array([[<Axes: title={'center': 'delivery_time'}>,\n",
       "        <Axes: title={'center': 'sorting_time'}>]], dtype=object)"
      ]
     },
     "execution_count": 9,
     "metadata": {},
     "output_type": "execute_result"
    },
    {
     "data": {
      "image/png": "[encoded data removed]",
      "text/plain": [
       "<Figure size 640x480 with 2 Axes>"
      ]
     },
     "metadata": {},
     "output_type": "display_data"
    }
   ],
   "source": [
    "data1_pd.hist()  #visualization"
   ]
  },
  {
   "cell_type": "code",
   "execution_count": 10,
   "id": "a4852594",
   "metadata": {},
   "outputs": [
    {
     "data": {
      "text/plain": [
       "<Axes: >"
      ]
     },
     "execution_count": 10,
     "metadata": {},
     "output_type": "execute_result"
    },
    {
     "data": {
      "image/png": "[encoded data removed]",
      "text/plain": [
       "<Figure size 640x480 with 1 Axes>"
      ]
     },
     "metadata": {},
     "output_type": "display_data"
    }
   ],
   "source": [
    "data1_pd.boxplot()   #visualization\n",
    "# no outliers in the data"
   ]
  },
  {
   "cell_type": "code",
   "execution_count": 11,
   "id": "6f730dc1",
   "metadata": {},
   "outputs": [
    {
     "data": {
      "text/plain": [
       "<Axes: >"
      ]
     },
     "execution_count": 11,
     "metadata": {},
     "output_type": "execute_result"
    },
    {
     "data": {
      "image/png": "[encoded data removed]",
      "text/plain": [
       "<Figure size 640x480 with 1 Axes>"
      ]
     },
     "metadata": {},
     "output_type": "display_data"
    }
   ],
   "source": [
    "data1_pd.plot.bar()   #visualization"
   ]
  },
  {
   "cell_type": "code",
   "execution_count": 12,
   "id": "a7e59827",
   "metadata": {},
   "outputs": [
    {
     "data": {
      "text/plain": [
       "<seaborn.axisgrid.PairGrid at 0x2dbf4a0acd0>"
      ]
     },
     "execution_count": 12,
     "metadata": {},
     "output_type": "execute_result"
    },
    {
     "data": {
      "image/png": "[encoded data removed]",
      "text/plain": [
       "<Figure size 500x500 with 6 Axes>"
      ]
     },
     "metadata": {},
     "output_type": "display_data"
    }
   ],
   "source": [
    "sns.pairplot(data1_pd)"
   ]
  },
  {
   "cell_type": "code",
   "execution_count": 13,
   "id": "6fcd5503",
   "metadata": {},
   "outputs": [
    {
     "data": {
      "text/html": [
       "<div>\n",
       "<style scoped>\n",
       "    .dataframe tbody tr th:only-of-type {\n",
       "        vertical-align: middle;\n",
       "    }\n",
       "\n",
       "    .dataframe tbody tr th {\n",
       "        vertical-align: top;\n",
       "    }\n",
       "\n",
       "    .dataframe thead th {\n",
       "        text-align: right;\n",
       "    }\n",
       "</style>\n",
       "<table border=\"1\" class=\"dataframe\">\n",
       "  <thead>\n",
       "    <tr style=\"text-align: right;\">\n",
       "      <th></th>\n",
       "      <th>delivery_time</th>\n",
       "      <th>sorting_time</th>\n",
       "    </tr>\n",
       "  </thead>\n",
       "  <tbody>\n",
       "    <tr>\n",
       "      <th>delivery_time</th>\n",
       "      <td>1.000000</td>\n",
       "      <td>0.825997</td>\n",
       "    </tr>\n",
       "    <tr>\n",
       "      <th>sorting_time</th>\n",
       "      <td>0.825997</td>\n",
       "      <td>1.000000</td>\n",
       "    </tr>\n",
       "  </tbody>\n",
       "</table>\n",
       "</div>"
      ],
      "text/plain": [
       "               delivery_time  sorting_time\n",
       "delivery_time       1.000000      0.825997\n",
       "sorting_time        0.825997      1.000000"
      ]
     },
     "execution_count": 13,
     "metadata": {},
     "output_type": "execute_result"
    }
   ],
   "source": [
    "#correlation\n",
    "data1_pd.corr()   # moderate correlation between delivery time and sorting time"
   ]
  },
  {
   "cell_type": "code",
   "execution_count": 14,
   "id": "ff0c4a30",
   "metadata": {},
   "outputs": [
    {
     "name": "stderr",
     "output_type": "stream",
     "text": [
      "C:\\Users\\sycmy\\AppData\\Local\\Temp\\ipykernel_15828\\1308626878.py:1: UserWarning: \n",
      "\n",
      "`distplot` is a deprecated function and will be removed in seaborn v0.14.0.\n",
      "\n",
      "Please adapt your code to use either `displot` (a figure-level function with\n",
      "similar flexibility) or `histplot` (an axes-level function for histograms).\n",
      "\n",
      "For a guide to updating your code to use the new functions, please see\n",
      "https://gist.github.com/mwaskom/de44147ed2974457ad6372750bbe5751\n",
      "\n",
      "  sns.distplot(data1_pd['delivery_time'])\n"
     ]
    },
    {
     "data": {
      "text/plain": [
       "<Axes: xlabel='delivery_time', ylabel='Density'>"
      ]
     },
     "execution_count": 14,
     "metadata": {},
     "output_type": "execute_result"
    },
    {
     "data": {
      "image/png": "[encoded data removed]",
      "text/plain": [
       "<Figure size 640x480 with 1 Axes>"
      ]
     },
     "metadata": {},
     "output_type": "display_data"
    }
   ],
   "source": [
    "sns.distplot(data1_pd['delivery_time'])    "
   ]
  },
  {
   "cell_type": "code",
   "execution_count": 15,
   "id": "3c27a0d9",
   "metadata": {},
   "outputs": [
    {
     "name": "stderr",
     "output_type": "stream",
     "text": [
      "C:\\Users\\sycmy\\AppData\\Local\\Temp\\ipykernel_15828\\2814972681.py:1: UserWarning: \n",
      "\n",
      "`distplot` is a deprecated function and will be removed in seaborn v0.14.0.\n",
      "\n",
      "Please adapt your code to use either `displot` (a figure-level function with\n",
      "similar flexibility) or `histplot` (an axes-level function for histograms).\n",
      "\n",
      "For a guide to updating your code to use the new functions, please see\n",
      "https://gist.github.com/mwaskom/de44147ed2974457ad6372750bbe5751\n",
      "\n",
      "  sns.distplot(data1_pd['sorting_time'])\n"
     ]
    },
    {
     "data": {
      "text/plain": [
       "<Axes: xlabel='sorting_time', ylabel='Density'>"
      ]
     },
     "execution_count": 15,
     "metadata": {},
     "output_type": "execute_result"
    },
    {
     "data": {
      "image/png": "[encoded data removed]",
      "text/plain": [
       "<Figure size 640x480 with 1 Axes>"
      ]
     },
     "metadata": {},
     "output_type": "display_data"
    }
   ],
   "source": [
    "sns.distplot(data1_pd['sorting_time'])"
   ]
  },
  {
   "cell_type": "code",
   "execution_count": 16,
   "id": "a519b792",
   "metadata": {},
   "outputs": [],
   "source": [
    "# y= dependent variable= delivery time and x= independent variable= sorting time"
   ]
  },
  {
   "cell_type": "code",
   "execution_count": 17,
   "id": "9db904e3",
   "metadata": {},
   "outputs": [],
   "source": [
    "# 1) no transformation used\n",
    "model=smf.ols('delivery_time~sorting_time',data=data1_pd).fit()"
   ]
  },
  {
   "cell_type": "code",
   "execution_count": 18,
   "id": "079eaf7f",
   "metadata": {},
   "outputs": [
    {
     "data": {
      "text/plain": [
       "<Axes: xlabel='sorting_time', ylabel='delivery_time'>"
      ]
     },
     "execution_count": 18,
     "metadata": {},
     "output_type": "execute_result"
    },
    {
     "data": {
      "image/png": "[encoded data removed]",
      "text/plain": [
       "<Figure size 640x480 with 1 Axes>"
      ]
     },
     "metadata": {},
     "output_type": "display_data"
    }
   ],
   "source": [
    "# plot to see best fit line\n",
    "\n",
    "sns.regplot(x='sorting_time',y='delivery_time',data=data1_pd)"
   ]
  },
  {
   "cell_type": "code",
   "execution_count": 19,
   "id": "57a02c42",
   "metadata": {},
   "outputs": [
    {
     "data": {
      "text/plain": [
       "Intercept       6.582734\n",
       "sorting_time    1.649020\n",
       "dtype: float64"
      ]
     },
     "execution_count": 19,
     "metadata": {},
     "output_type": "execute_result"
    }
   ],
   "source": [
    "model.params"
   ]
  },
  {
   "cell_type": "code",
   "execution_count": 20,
   "id": "a97eff7d",
   "metadata": {},
   "outputs": [
    {
     "data": {
      "text/plain": [
       "Intercept       3.823349\n",
       "sorting_time    6.387447\n",
       "dtype: float64"
      ]
     },
     "execution_count": 20,
     "metadata": {},
     "output_type": "execute_result"
    }
   ],
   "source": [
    "model.tvalues"
   ]
  },
  {
   "cell_type": "code",
   "execution_count": 21,
   "id": "0aa71b35",
   "metadata": {},
   "outputs": [
    {
     "data": {
      "text/plain": [
       "Intercept       0.001147\n",
       "sorting_time    0.000004\n",
       "dtype: float64"
      ]
     },
     "execution_count": 21,
     "metadata": {},
     "output_type": "execute_result"
    }
   ],
   "source": [
    "model.pvalues"
   ]
  },
  {
   "cell_type": "code",
   "execution_count": 22,
   "id": "02ebed9d",
   "metadata": {},
   "outputs": [],
   "source": [
    "# For Hypothesis Testing:\n",
    "# H0: There is no relation between delivery time and sorting time.\n",
    "# H1: There is relation between delivery time and sorting time.\n",
    "# Since p value is less than 0.05 (significance level)\n",
    "# Therefore, we reject null hypothesis(H0)"
   ]
  },
  {
   "cell_type": "code",
   "execution_count": 23,
   "id": "d203ebcf",
   "metadata": {},
   "outputs": [
    {
     "data": {
      "text/plain": [
       "0.6822714748417231"
      ]
     },
     "execution_count": 23,
     "metadata": {},
     "output_type": "execute_result"
    }
   ],
   "source": [
    "model.rsquared  # r square value between 0 and 1\n",
    "# 0.68 r square value means the model is avergae working."
   ]
  },
  {
   "cell_type": "code",
   "execution_count": 24,
   "id": "ef3d26b2",
   "metadata": {},
   "outputs": [
    {
     "data": {
      "text/plain": [
       "23.072000000000003"
      ]
     },
     "execution_count": 24,
     "metadata": {},
     "output_type": "execute_result"
    }
   ],
   "source": [
    "# prediction for existing data point\n",
    "delivery_time= ((1.649)*10)+(6.582)\n",
    "delivery_time"
   ]
  },
  {
   "cell_type": "code",
   "execution_count": 25,
   "id": "20b4affa",
   "metadata": {},
   "outputs": [
    {
     "data": {
      "text/html": [
       "<div>\n",
       "<style scoped>\n",
       "    .dataframe tbody tr th:only-of-type {\n",
       "        vertical-align: middle;\n",
       "    }\n",
       "\n",
       "    .dataframe tbody tr th {\n",
       "        vertical-align: top;\n",
       "    }\n",
       "\n",
       "    .dataframe thead th {\n",
       "        text-align: right;\n",
       "    }\n",
       "</style>\n",
       "<table border=\"1\" class=\"dataframe\">\n",
       "  <thead>\n",
       "    <tr style=\"text-align: right;\">\n",
       "      <th></th>\n",
       "      <th>sorting_time</th>\n",
       "    </tr>\n",
       "  </thead>\n",
       "  <tbody>\n",
       "    <tr>\n",
       "      <th>0</th>\n",
       "      <td>2</td>\n",
       "    </tr>\n",
       "    <tr>\n",
       "      <th>1</th>\n",
       "      <td>11</td>\n",
       "    </tr>\n",
       "  </tbody>\n",
       "</table>\n",
       "</div>"
      ],
      "text/plain": [
       "   sorting_time\n",
       "0             2\n",
       "1            11"
      ]
     },
     "execution_count": 25,
     "metadata": {},
     "output_type": "execute_result"
    }
   ],
   "source": [
    "# prediction for new data point\n",
    "newdata1=pd.Series([2,11])\n",
    "data1_pd_pred=pd.DataFrame(newdata1,columns=['sorting_time'])\n",
    "data1_pd_pred"
   ]
  },
  {
   "cell_type": "code",
   "execution_count": 26,
   "id": "43208565",
   "metadata": {},
   "outputs": [
    {
     "data": {
      "text/plain": [
       "0     9.880774\n",
       "1    24.721953\n",
       "dtype: float64"
      ]
     },
     "execution_count": 26,
     "metadata": {},
     "output_type": "execute_result"
    }
   ],
   "source": [
    "model.predict(data1_pd_pred)"
   ]
  },
  {
   "cell_type": "code",
   "execution_count": 27,
   "id": "09a07d2d",
   "metadata": {},
   "outputs": [],
   "source": [
    "# 2) log transformation \n",
    "trf=FunctionTransformer(func=np.log1p)"
   ]
  },
  {
   "cell_type": "code",
   "execution_count": 28,
   "id": "2b70141a",
   "metadata": {},
   "outputs": [
    {
     "data": {
      "text/plain": [
       "0    2.397895\n",
       "1    1.609438\n",
       "2    1.945910\n",
       "3    2.302585\n",
       "4    2.397895\n",
       "Name: sorting_time, dtype: float64"
      ]
     },
     "execution_count": 28,
     "metadata": {},
     "output_type": "execute_result"
    }
   ],
   "source": [
    "x_transformed=trf.fit_transform(data1_pd['sorting_time'])\n",
    "x_transformed.head()"
   ]
  },
  {
   "cell_type": "code",
   "execution_count": 29,
   "id": "5b8a0629",
   "metadata": {},
   "outputs": [],
   "source": [
    "transformed_model=smf.ols('delivery_time~x_transformed',data=data1_pd).fit()"
   ]
  },
  {
   "cell_type": "code",
   "execution_count": 30,
   "id": "95405ade",
   "metadata": {},
   "outputs": [
    {
     "data": {
      "text/plain": [
       "Intercept        -4.099013\n",
       "x_transformed    10.959246\n",
       "dtype: float64"
      ]
     },
     "execution_count": 30,
     "metadata": {},
     "output_type": "execute_result"
    }
   ],
   "source": [
    "transformed_model.params"
   ]
  },
  {
   "cell_type": "code",
   "execution_count": 31,
   "id": "79be579c",
   "metadata": {},
   "outputs": [
    {
     "data": {
      "text/plain": [
       "Intercept       -1.272674\n",
       "x_transformed    6.611817\n",
       "dtype: float64"
      ]
     },
     "execution_count": 31,
     "metadata": {},
     "output_type": "execute_result"
    }
   ],
   "source": [
    "transformed_model.tvalues"
   ]
  },
  {
   "cell_type": "code",
   "execution_count": 32,
   "id": "3c672f2d",
   "metadata": {},
   "outputs": [
    {
     "data": {
      "text/plain": [
       "Intercept        0.218488\n",
       "x_transformed    0.000003\n",
       "dtype: float64"
      ]
     },
     "execution_count": 32,
     "metadata": {},
     "output_type": "execute_result"
    }
   ],
   "source": [
    "transformed_model.pvalues\n",
    "# Since p value is less than 0.05 (significance level)\n",
    "# Therefore, we reject null hypothesis(H0)"
   ]
  },
  {
   "cell_type": "code",
   "execution_count": 33,
   "id": "fa87c2fa",
   "metadata": {},
   "outputs": [
    {
     "data": {
      "text/plain": [
       "0.6970476042045003"
      ]
     },
     "execution_count": 33,
     "metadata": {},
     "output_type": "execute_result"
    }
   ],
   "source": [
    "transformed_model.rsquared"
   ]
  },
  {
   "cell_type": "code",
   "execution_count": 34,
   "id": "483a26ee",
   "metadata": {},
   "outputs": [
    {
     "data": {
      "text/plain": [
       "22.179531305"
      ]
     },
     "execution_count": 34,
     "metadata": {},
     "output_type": "execute_result"
    }
   ],
   "source": [
    "# prediction for existing data point\n",
    "delivery_time= ((10.959)*2.397895)+(-4.099)\n",
    "delivery_time"
   ]
  },
  {
   "cell_type": "code",
   "execution_count": 35,
   "id": "6a52e25c",
   "metadata": {},
   "outputs": [],
   "source": [
    "# 3) Square transformation \n",
    "trf2=FunctionTransformer(func=np.square)"
   ]
  },
  {
   "cell_type": "code",
   "execution_count": 36,
   "id": "044679c2",
   "metadata": {},
   "outputs": [
    {
     "data": {
      "text/plain": [
       "0    100\n",
       "1     16\n",
       "2     36\n",
       "3     81\n",
       "4    100\n",
       "Name: sorting_time, dtype: int64"
      ]
     },
     "execution_count": 36,
     "metadata": {},
     "output_type": "execute_result"
    }
   ],
   "source": [
    "x_transformed2=trf2.fit_transform(data1_pd['sorting_time'])\n",
    "x_transformed2.head()"
   ]
  },
  {
   "cell_type": "code",
   "execution_count": 37,
   "id": "248eea4a",
   "metadata": {},
   "outputs": [],
   "source": [
    "transformed2_model=smf.ols('delivery_time~x_transformed2',data=data1_pd).fit()"
   ]
  },
  {
   "cell_type": "code",
   "execution_count": 38,
   "id": "075d9f89",
   "metadata": {},
   "outputs": [
    {
     "data": {
      "text/plain": [
       "Intercept         11.237205\n",
       "x_transformed2     0.124870\n",
       "dtype: float64"
      ]
     },
     "execution_count": 38,
     "metadata": {},
     "output_type": "execute_result"
    }
   ],
   "source": [
    "transformed2_model.params"
   ]
  },
  {
   "cell_type": "code",
   "execution_count": 39,
   "id": "b927a586",
   "metadata": {},
   "outputs": [
    {
     "data": {
      "text/plain": [
       "Intercept         9.398601\n",
       "x_transformed2    5.691330\n",
       "dtype: float64"
      ]
     },
     "execution_count": 39,
     "metadata": {},
     "output_type": "execute_result"
    }
   ],
   "source": [
    "transformed2_model.tvalues"
   ]
  },
  {
   "cell_type": "code",
   "execution_count": 40,
   "id": "df450eff",
   "metadata": {},
   "outputs": [
    {
     "data": {
      "text/plain": [
       "Intercept         1.415704e-08\n",
       "x_transformed2    1.739194e-05\n",
       "dtype: float64"
      ]
     },
     "execution_count": 40,
     "metadata": {},
     "output_type": "execute_result"
    }
   ],
   "source": [
    "transformed2_model.pvalues\n",
    "# Since p value is less than 0.05 (significance level)\n",
    "# Therefore, we reject null hypothesis(H0)"
   ]
  },
  {
   "cell_type": "code",
   "execution_count": 41,
   "id": "856b4731",
   "metadata": {},
   "outputs": [
    {
     "data": {
      "text/plain": [
       "0.6302871815826637"
      ]
     },
     "execution_count": 41,
     "metadata": {},
     "output_type": "execute_result"
    }
   ],
   "source": [
    "transformed2_model.rsquared\n",
    "#model accuracy is decreasing"
   ]
  },
  {
   "cell_type": "code",
   "execution_count": 42,
   "id": "fdad5458",
   "metadata": {},
   "outputs": [
    {
     "data": {
      "text/plain": [
       "23.637"
      ]
     },
     "execution_count": 42,
     "metadata": {},
     "output_type": "execute_result"
    }
   ],
   "source": [
    "# prediction for existing data point\n",
    "delivery_time= ((0.124)*100)+(11.237)\n",
    "delivery_time"
   ]
  },
  {
   "cell_type": "code",
   "execution_count": 43,
   "id": "87888e63",
   "metadata": {},
   "outputs": [],
   "source": [
    "# 4) square root transformation\n",
    "trf3=FunctionTransformer(func=np.sqrt)"
   ]
  },
  {
   "cell_type": "code",
   "execution_count": 44,
   "id": "9a1dcae8",
   "metadata": {},
   "outputs": [
    {
     "data": {
      "text/plain": [
       "0    3.162278\n",
       "1    2.000000\n",
       "2    2.449490\n",
       "3    3.000000\n",
       "4    3.162278\n",
       "Name: sorting_time, dtype: float64"
      ]
     },
     "execution_count": 44,
     "metadata": {},
     "output_type": "execute_result"
    }
   ],
   "source": [
    "x_transformed3=trf3.fit_transform(data1_pd['sorting_time'])\n",
    "x_transformed3.head()"
   ]
  },
  {
   "cell_type": "code",
   "execution_count": 45,
   "id": "fc19590e",
   "metadata": {},
   "outputs": [],
   "source": [
    "transformed3_model=smf.ols('delivery_time~x_transformed3',data=data1_pd).fit()"
   ]
  },
  {
   "cell_type": "code",
   "execution_count": 46,
   "id": "1639d7c5",
   "metadata": {},
   "outputs": [
    {
     "data": {
      "text/plain": [
       "Intercept        -2.518837\n",
       "x_transformed3    7.936591\n",
       "dtype: float64"
      ]
     },
     "execution_count": 46,
     "metadata": {},
     "output_type": "execute_result"
    }
   ],
   "source": [
    "transformed3_model.params"
   ]
  },
  {
   "cell_type": "code",
   "execution_count": 47,
   "id": "d1d4639d",
   "metadata": {},
   "outputs": [
    {
     "data": {
      "text/plain": [
       "Intercept        -0.840911\n",
       "x_transformed3    6.592434\n",
       "dtype: float64"
      ]
     },
     "execution_count": 47,
     "metadata": {},
     "output_type": "execute_result"
    }
   ],
   "source": [
    "transformed3_model.tvalues"
   ]
  },
  {
   "cell_type": "code",
   "execution_count": 48,
   "id": "eb6cafae",
   "metadata": {},
   "outputs": [
    {
     "data": {
      "text/plain": [
       "Intercept         0.410857\n",
       "x_transformed3    0.000003\n",
       "dtype: float64"
      ]
     },
     "execution_count": 48,
     "metadata": {},
     "output_type": "execute_result"
    }
   ],
   "source": [
    "transformed3_model.pvalues\n",
    "# Since p value is less than 0.05 (significance level)\n",
    "# Therefore, we reject null hypothesis(H0)"
   ]
  },
  {
   "cell_type": "code",
   "execution_count": 49,
   "id": "ba90e669",
   "metadata": {},
   "outputs": [
    {
     "data": {
      "text/plain": [
       "0.6958062276308671"
      ]
     },
     "execution_count": 49,
     "metadata": {},
     "output_type": "execute_result"
    }
   ],
   "source": [
    "transformed3_model.rsquared"
   ]
  },
  {
   "cell_type": "code",
   "execution_count": 50,
   "id": "a76424f8",
   "metadata": {},
   "outputs": [
    {
     "data": {
      "text/plain": [
       "22.575632"
      ]
     },
     "execution_count": 50,
     "metadata": {},
     "output_type": "execute_result"
    }
   ],
   "source": [
    "# prediction for existing data point\n",
    "delivery_time= ((7.936)*3.162)+(-2.518)\n",
    "delivery_time"
   ]
  },
  {
   "cell_type": "code",
   "execution_count": 51,
   "id": "a1cbeff0",
   "metadata": {},
   "outputs": [],
   "source": [
    "# 5) cube root transformation\n",
    "trf4=FunctionTransformer(func=np.cbrt)"
   ]
  },
  {
   "cell_type": "code",
   "execution_count": 52,
   "id": "adc394e4",
   "metadata": {},
   "outputs": [
    {
     "data": {
      "text/plain": [
       "0    2.154435\n",
       "1    1.587401\n",
       "2    1.817121\n",
       "3    2.080084\n",
       "4    2.154435\n",
       "Name: sorting_time, dtype: float64"
      ]
     },
     "execution_count": 52,
     "metadata": {},
     "output_type": "execute_result"
    }
   ],
   "source": [
    "x_transformed4=trf4.fit_transform(data1_pd['sorting_time'])\n",
    "x_transformed4.head()"
   ]
  },
  {
   "cell_type": "code",
   "execution_count": 53,
   "id": "293951e0",
   "metadata": {},
   "outputs": [],
   "source": [
    "transformed4_model=smf.ols('delivery_time~x_transformed4',data=data1_pd).fit()"
   ]
  },
  {
   "cell_type": "code",
   "execution_count": 54,
   "id": "55fc42b5",
   "metadata": {},
   "outputs": [
    {
     "data": {
      "text/plain": [
       "Intercept        -11.579201\n",
       "x_transformed4    15.767284\n",
       "dtype: float64"
      ]
     },
     "execution_count": 54,
     "metadata": {},
     "output_type": "execute_result"
    }
   ],
   "source": [
    "transformed4_model.params"
   ]
  },
  {
   "cell_type": "code",
   "execution_count": 55,
   "id": "b4f3f80b",
   "metadata": {},
   "outputs": [
    {
     "data": {
      "text/plain": [
       "Intercept        -2.672712\n",
       "x_transformed4    6.617624\n",
       "dtype: float64"
      ]
     },
     "execution_count": 55,
     "metadata": {},
     "output_type": "execute_result"
    }
   ],
   "source": [
    "transformed4_model.tvalues"
   ]
  },
  {
   "cell_type": "code",
   "execution_count": 56,
   "id": "fad6ca22",
   "metadata": {},
   "outputs": [
    {
     "data": {
      "text/plain": [
       "Intercept         0.015048\n",
       "x_transformed4    0.000002\n",
       "dtype: float64"
      ]
     },
     "execution_count": 56,
     "metadata": {},
     "output_type": "execute_result"
    }
   ],
   "source": [
    "transformed4_model.pvalues\n",
    "# Since p value is less than 0.05 (significance level)\n",
    "# Therefore, we reject null hypothesis(H0)"
   ]
  },
  {
   "cell_type": "code",
   "execution_count": 57,
   "id": "64d73def",
   "metadata": {},
   "outputs": [
    {
     "data": {
      "text/plain": [
       "0.6974182292354247"
      ]
     },
     "execution_count": 57,
     "metadata": {},
     "output_type": "execute_result"
    }
   ],
   "source": [
    "transformed4_model.rsquared"
   ]
  },
  {
   "cell_type": "code",
   "execution_count": 58,
   "id": "8f2677c6",
   "metadata": {},
   "outputs": [
    {
     "data": {
      "text/plain": [
       "22.383117999999996"
      ]
     },
     "execution_count": 58,
     "metadata": {},
     "output_type": "execute_result"
    }
   ],
   "source": [
    "# prediction for existing data point\n",
    "delivery_time= ((15.767)*2.154)+(-11.579)\n",
    "delivery_time"
   ]
  },
  {
   "cell_type": "code",
   "execution_count": 59,
   "id": "7aa65802",
   "metadata": {},
   "outputs": [],
   "source": [
    "# no transformation: r square value: 0.682\n",
    "# log transformation: r square value: 0.697\n",
    "# square transformation: r square value: 0.630\n",
    "# square root transformation: r square value: 0.695\n",
    "# cube root transformation: r square value: 0.697\n",
    "# since r square value of log transformation and cuberoot transformation is equal and closer to 1, we use log transformation."
   ]
  },
  {
   "cell_type": "code",
   "execution_count": 63,
   "id": "9fc0f09a",
   "metadata": {},
   "outputs": [
    {
     "data": {
      "text/plain": [
       "0    1.098612\n",
       "1    2.484907\n",
       "dtype: float64"
      ]
     },
     "execution_count": 63,
     "metadata": {},
     "output_type": "execute_result"
    }
   ],
   "source": [
    "# prediction for new data point using log transformed model\n",
    "newdata1=pd.Series([2,11])\n",
    "newdata2=trf.fit_transform(newdata1)\n",
    "newdata2.head()"
   ]
  },
  {
   "cell_type": "code",
   "execution_count": 64,
   "id": "9dc2f6c2",
   "metadata": {},
   "outputs": [
    {
     "data": {
      "text/plain": [
       "0     7.940950\n",
       "1    23.133691\n",
       "dtype: float64"
      ]
     },
     "execution_count": 64,
     "metadata": {},
     "output_type": "execute_result"
    }
   ],
   "source": [
    "transformed_data1_pd_pred=pd.DataFrame(newdata2,columns=['x_transformed'])\n",
    "transformed_data1_pd_pred\n",
    "transformed_model.predict(transformed_data1_pd_pred)"
   ]
  }
 ],
 "metadata": {
  "kernelspec": {
   "display_name": "Python 3 (ipykernel)",
   "language": "python",
   "name": "python3"
  },
  "language_info": {
   "codemirror_mode": {
    "name": "ipython",
    "version": 3
   },
   "file_extension": ".py",
   "mimetype": "text/x-python",
   "name": "python",
   "nbconvert_exporter": "python",
   "pygments_lexer": "ipython3",
   "version": "3.11.5"
  }
 },
 "nbformat": 4,
 "nbformat_minor": 5
}
