{
 "cells": [
  {
   "cell_type": "markdown",
   "id": "14f6e6a9",
   "metadata": {},
   "source": [
    "# Salary Data"
   ]
  },
  {
   "cell_type": "code",
   "execution_count": 2,
   "id": "b416eb16",
   "metadata": {},
   "outputs": [],
   "source": [
    "# importing libraries\n",
    "import pandas as pd\n",
    "import numpy as np\n",
    "import seaborn as sns\n",
    "import matplotlib.pyplot as plt\n",
    "import statsmodels.formula.api as smf\n",
    "import scipy.stats as stats\n",
    "from sklearn.preprocessing import FunctionTransformer"
   ]
  },
  {
   "cell_type": "code",
   "execution_count": 3,
   "id": "0328b006",
   "metadata": {},
   "outputs": [],
   "source": [
    "# 2) Salary_hike -> Build a prediction model for Salary_hike\n",
    "salary_data=pd.read_csv('Salary_Data.csv')"
   ]
  },
  {
   "cell_type": "code",
   "execution_count": 4,
   "id": "5c3559ff",
   "metadata": {},
   "outputs": [
    {
     "data": {
      "text/html": [
       "<div>\n",
       "<style scoped>\n",
       "    .dataframe tbody tr th:only-of-type {\n",
       "        vertical-align: middle;\n",
       "    }\n",
       "\n",
       "    .dataframe tbody tr th {\n",
       "        vertical-align: top;\n",
       "    }\n",
       "\n",
       "    .dataframe thead th {\n",
       "        text-align: right;\n",
       "    }\n",
       "</style>\n",
       "<table border=\"1\" class=\"dataframe\">\n",
       "  <thead>\n",
       "    <tr style=\"text-align: right;\">\n",
       "      <th></th>\n",
       "      <th>YearsExperience</th>\n",
       "      <th>Salary</th>\n",
       "    </tr>\n",
       "  </thead>\n",
       "  <tbody>\n",
       "    <tr>\n",
       "      <th>0</th>\n",
       "      <td>1.1</td>\n",
       "      <td>39343.0</td>\n",
       "    </tr>\n",
       "    <tr>\n",
       "      <th>1</th>\n",
       "      <td>1.3</td>\n",
       "      <td>46205.0</td>\n",
       "    </tr>\n",
       "    <tr>\n",
       "      <th>2</th>\n",
       "      <td>1.5</td>\n",
       "      <td>37731.0</td>\n",
       "    </tr>\n",
       "    <tr>\n",
       "      <th>3</th>\n",
       "      <td>2.0</td>\n",
       "      <td>43525.0</td>\n",
       "    </tr>\n",
       "    <tr>\n",
       "      <th>4</th>\n",
       "      <td>2.2</td>\n",
       "      <td>39891.0</td>\n",
       "    </tr>\n",
       "  </tbody>\n",
       "</table>\n",
       "</div>"
      ],
      "text/plain": [
       "   YearsExperience   Salary\n",
       "0              1.1  39343.0\n",
       "1              1.3  46205.0\n",
       "2              1.5  37731.0\n",
       "3              2.0  43525.0\n",
       "4              2.2  39891.0"
      ]
     },
     "execution_count": 4,
     "metadata": {},
     "output_type": "execute_result"
    }
   ],
   "source": [
    "salary_data.head()"
   ]
  },
  {
   "cell_type": "code",
   "execution_count": 5,
   "id": "145bfad1",
   "metadata": {},
   "outputs": [
    {
     "data": {
      "text/plain": [
       "(30, 2)"
      ]
     },
     "execution_count": 5,
     "metadata": {},
     "output_type": "execute_result"
    }
   ],
   "source": [
    "salary_data.shape"
   ]
  },
  {
   "cell_type": "code",
   "execution_count": 6,
   "id": "e4c1e115",
   "metadata": {},
   "outputs": [
    {
     "data": {
      "text/html": [
       "<div>\n",
       "<style scoped>\n",
       "    .dataframe tbody tr th:only-of-type {\n",
       "        vertical-align: middle;\n",
       "    }\n",
       "\n",
       "    .dataframe tbody tr th {\n",
       "        vertical-align: top;\n",
       "    }\n",
       "\n",
       "    .dataframe thead th {\n",
       "        text-align: right;\n",
       "    }\n",
       "</style>\n",
       "<table border=\"1\" class=\"dataframe\">\n",
       "  <thead>\n",
       "    <tr style=\"text-align: right;\">\n",
       "      <th></th>\n",
       "      <th>YearsExperience</th>\n",
       "      <th>Salary</th>\n",
       "    </tr>\n",
       "  </thead>\n",
       "  <tbody>\n",
       "    <tr>\n",
       "      <th>count</th>\n",
       "      <td>30.000000</td>\n",
       "      <td>30.000000</td>\n",
       "    </tr>\n",
       "    <tr>\n",
       "      <th>mean</th>\n",
       "      <td>5.313333</td>\n",
       "      <td>76003.000000</td>\n",
       "    </tr>\n",
       "    <tr>\n",
       "      <th>std</th>\n",
       "      <td>2.837888</td>\n",
       "      <td>27414.429785</td>\n",
       "    </tr>\n",
       "    <tr>\n",
       "      <th>min</th>\n",
       "      <td>1.100000</td>\n",
       "      <td>37731.000000</td>\n",
       "    </tr>\n",
       "    <tr>\n",
       "      <th>25%</th>\n",
       "      <td>3.200000</td>\n",
       "      <td>56720.750000</td>\n",
       "    </tr>\n",
       "    <tr>\n",
       "      <th>50%</th>\n",
       "      <td>4.700000</td>\n",
       "      <td>65237.000000</td>\n",
       "    </tr>\n",
       "    <tr>\n",
       "      <th>75%</th>\n",
       "      <td>7.700000</td>\n",
       "      <td>100544.750000</td>\n",
       "    </tr>\n",
       "    <tr>\n",
       "      <th>max</th>\n",
       "      <td>10.500000</td>\n",
       "      <td>122391.000000</td>\n",
       "    </tr>\n",
       "  </tbody>\n",
       "</table>\n",
       "</div>"
      ],
      "text/plain": [
       "       YearsExperience         Salary\n",
       "count        30.000000      30.000000\n",
       "mean          5.313333   76003.000000\n",
       "std           2.837888   27414.429785\n",
       "min           1.100000   37731.000000\n",
       "25%           3.200000   56720.750000\n",
       "50%           4.700000   65237.000000\n",
       "75%           7.700000  100544.750000\n",
       "max          10.500000  122391.000000"
      ]
     },
     "execution_count": 6,
     "metadata": {},
     "output_type": "execute_result"
    }
   ],
   "source": [
    "salary_data.describe()"
   ]
  },
  {
   "cell_type": "code",
   "execution_count": 7,
   "id": "ddbfbab7",
   "metadata": {},
   "outputs": [
    {
     "name": "stdout",
     "output_type": "stream",
     "text": [
      "<class 'pandas.core.frame.DataFrame'>\n",
      "RangeIndex: 30 entries, 0 to 29\n",
      "Data columns (total 2 columns):\n",
      " #   Column           Non-Null Count  Dtype  \n",
      "---  ------           --------------  -----  \n",
      " 0   YearsExperience  30 non-null     float64\n",
      " 1   Salary           30 non-null     float64\n",
      "dtypes: float64(2)\n",
      "memory usage: 612.0 bytes\n"
     ]
    }
   ],
   "source": [
    "salary_data.info()\n",
    "# no missing values"
   ]
  },
  {
   "cell_type": "code",
   "execution_count": 8,
   "id": "c2ac50b2",
   "metadata": {},
   "outputs": [
    {
     "data": {
      "text/html": [
       "<div>\n",
       "<style scoped>\n",
       "    .dataframe tbody tr th:only-of-type {\n",
       "        vertical-align: middle;\n",
       "    }\n",
       "\n",
       "    .dataframe tbody tr th {\n",
       "        vertical-align: top;\n",
       "    }\n",
       "\n",
       "    .dataframe thead th {\n",
       "        text-align: right;\n",
       "    }\n",
       "</style>\n",
       "<table border=\"1\" class=\"dataframe\">\n",
       "  <thead>\n",
       "    <tr style=\"text-align: right;\">\n",
       "      <th></th>\n",
       "      <th>YearsExperience</th>\n",
       "      <th>Salary</th>\n",
       "    </tr>\n",
       "  </thead>\n",
       "  <tbody>\n",
       "  </tbody>\n",
       "</table>\n",
       "</div>"
      ],
      "text/plain": [
       "Empty DataFrame\n",
       "Columns: [YearsExperience, Salary]\n",
       "Index: []"
      ]
     },
     "execution_count": 8,
     "metadata": {},
     "output_type": "execute_result"
    }
   ],
   "source": [
    "salary_data[salary_data.duplicated()] #no duplicates"
   ]
  },
  {
   "cell_type": "code",
   "execution_count": 9,
   "id": "14664734",
   "metadata": {},
   "outputs": [
    {
     "data": {
      "text/plain": [
       "array([[<Axes: title={'center': 'YearsExperience'}>,\n",
       "        <Axes: title={'center': 'Salary'}>]], dtype=object)"
      ]
     },
     "execution_count": 9,
     "metadata": {},
     "output_type": "execute_result"
    },
    {
     "data": {
      "image/png": "[encoded data removed]",
      "text/plain": [
       "<Figure size 640x480 with 2 Axes>"
      ]
     },
     "metadata": {},
     "output_type": "display_data"
    }
   ],
   "source": [
    "salary_data.hist()  #visualization"
   ]
  },
  {
   "cell_type": "code",
   "execution_count": 10,
   "id": "dd27944f",
   "metadata": {},
   "outputs": [
    {
     "data": {
      "text/plain": [
       "<Axes: >"
      ]
     },
     "execution_count": 10,
     "metadata": {},
     "output_type": "execute_result"
    },
    {
     "data": {
      "image/png": "[encoded data removed]",
      "text/plain": [
       "<Figure size 640x480 with 1 Axes>"
      ]
     },
     "metadata": {},
     "output_type": "display_data"
    }
   ],
   "source": [
    "salary_data.boxplot()   #visualization\n",
    "# no outliers in the data"
   ]
  },
  {
   "cell_type": "code",
   "execution_count": 11,
   "id": "84909cc4",
   "metadata": {},
   "outputs": [
    {
     "data": {
      "text/plain": [
       "{'whiskers': [<matplotlib.lines.Line2D at 0x1c2ca1a63d0>,\n",
       "  <matplotlib.lines.Line2D at 0x1c2ca1a6fd0>],\n",
       " 'caps': [<matplotlib.lines.Line2D at 0x1c2ca1a7bd0>,\n",
       "  <matplotlib.lines.Line2D at 0x1c2ca1b8690>],\n",
       " 'boxes': [<matplotlib.lines.Line2D at 0x1c2ca3a1310>],\n",
       " 'medians': [<matplotlib.lines.Line2D at 0x1c2ca1b9110>],\n",
       " 'fliers': [<matplotlib.lines.Line2D at 0x1c2ca1a6f90>],\n",
       " 'means': []}"
      ]
     },
     "execution_count": 11,
     "metadata": {},
     "output_type": "execute_result"
    },
    {
     "data": {
      "image/png": "[encoded data removed]",
      "text/plain": [
       "<Figure size 640x480 with 1 Axes>"
      ]
     },
     "metadata": {},
     "output_type": "display_data"
    }
   ],
   "source": [
    "plt.boxplot(salary_data['YearsExperience'])"
   ]
  },
  {
   "cell_type": "code",
   "execution_count": 13,
   "id": "065c5c3f",
   "metadata": {},
   "outputs": [
    {
     "data": {
      "text/plain": [
       "<seaborn.axisgrid.PairGrid at 0x1c2c2e59bd0>"
      ]
     },
     "execution_count": 13,
     "metadata": {},
     "output_type": "execute_result"
    },
    {
     "data": {
      "image/png": "[encoded data removed]",
      "text/plain": [
       "<Figure size 500x500 with 6 Axes>"
      ]
     },
     "metadata": {},
     "output_type": "display_data"
    }
   ],
   "source": [
    "sns.pairplot(salary_data)"
   ]
  },
  {
   "cell_type": "code",
   "execution_count": 15,
   "id": "026e1873",
   "metadata": {},
   "outputs": [
    {
     "data": {
      "text/html": [
       "<div>\n",
       "<style scoped>\n",
       "    .dataframe tbody tr th:only-of-type {\n",
       "        vertical-align: middle;\n",
       "    }\n",
       "\n",
       "    .dataframe tbody tr th {\n",
       "        vertical-align: top;\n",
       "    }\n",
       "\n",
       "    .dataframe thead th {\n",
       "        text-align: right;\n",
       "    }\n",
       "</style>\n",
       "<table border=\"1\" class=\"dataframe\">\n",
       "  <thead>\n",
       "    <tr style=\"text-align: right;\">\n",
       "      <th></th>\n",
       "      <th>YearsExperience</th>\n",
       "      <th>Salary</th>\n",
       "    </tr>\n",
       "  </thead>\n",
       "  <tbody>\n",
       "    <tr>\n",
       "      <th>YearsExperience</th>\n",
       "      <td>1.000000</td>\n",
       "      <td>0.978242</td>\n",
       "    </tr>\n",
       "    <tr>\n",
       "      <th>Salary</th>\n",
       "      <td>0.978242</td>\n",
       "      <td>1.000000</td>\n",
       "    </tr>\n",
       "  </tbody>\n",
       "</table>\n",
       "</div>"
      ],
      "text/plain": [
       "                 YearsExperience    Salary\n",
       "YearsExperience         1.000000  0.978242\n",
       "Salary                  0.978242  1.000000"
      ]
     },
     "execution_count": 15,
     "metadata": {},
     "output_type": "execute_result"
    }
   ],
   "source": [
    "#correlation\n",
    "salary_data.corr()   # strong correlation between salary and years of experience"
   ]
  },
  {
   "cell_type": "code",
   "execution_count": 16,
   "id": "6b97fd08",
   "metadata": {},
   "outputs": [
    {
     "name": "stderr",
     "output_type": "stream",
     "text": [
      "C:\\Users\\sycmy\\AppData\\Local\\Temp\\ipykernel_21784\\2584953720.py:1: UserWarning: \n",
      "\n",
      "`distplot` is a deprecated function and will be removed in seaborn v0.14.0.\n",
      "\n",
      "Please adapt your code to use either `displot` (a figure-level function with\n",
      "similar flexibility) or `histplot` (an axes-level function for histograms).\n",
      "\n",
      "For a guide to updating your code to use the new functions, please see\n",
      "https://gist.github.com/mwaskom/de44147ed2974457ad6372750bbe5751\n",
      "\n",
      "  sns.distplot(salary_data['Salary'])\n"
     ]
    },
    {
     "data": {
      "text/plain": [
       "<Axes: xlabel='Salary', ylabel='Density'>"
      ]
     },
     "execution_count": 16,
     "metadata": {},
     "output_type": "execute_result"
    },
    {
     "data": {
      "image/png": "[encoded data removed]",
      "text/plain": [
       "<Figure size 640x480 with 1 Axes>"
      ]
     },
     "metadata": {},
     "output_type": "display_data"
    }
   ],
   "source": [
    "sns.distplot(salary_data['Salary'])"
   ]
  },
  {
   "cell_type": "code",
   "execution_count": 17,
   "id": "68059618",
   "metadata": {},
   "outputs": [
    {
     "name": "stderr",
     "output_type": "stream",
     "text": [
      "C:\\Users\\sycmy\\AppData\\Local\\Temp\\ipykernel_21784\\1562048008.py:1: UserWarning: \n",
      "\n",
      "`distplot` is a deprecated function and will be removed in seaborn v0.14.0.\n",
      "\n",
      "Please adapt your code to use either `displot` (a figure-level function with\n",
      "similar flexibility) or `histplot` (an axes-level function for histograms).\n",
      "\n",
      "For a guide to updating your code to use the new functions, please see\n",
      "https://gist.github.com/mwaskom/de44147ed2974457ad6372750bbe5751\n",
      "\n",
      "  sns.distplot(salary_data['YearsExperience'])\n"
     ]
    },
    {
     "data": {
      "text/plain": [
       "<Axes: xlabel='YearsExperience', ylabel='Density'>"
      ]
     },
     "execution_count": 17,
     "metadata": {},
     "output_type": "execute_result"
    },
    {
     "data": {
      "image/png": "[encoded data removed]",
      "text/plain": [
       "<Figure size 640x480 with 1 Axes>"
      ]
     },
     "metadata": {},
     "output_type": "display_data"
    }
   ],
   "source": [
    "sns.distplot(salary_data['YearsExperience'])"
   ]
  },
  {
   "cell_type": "code",
   "execution_count": 18,
   "id": "d7a14eb1",
   "metadata": {},
   "outputs": [],
   "source": [
    "# y= dependent variable= salary and x= independent variable= years experience"
   ]
  },
  {
   "cell_type": "code",
   "execution_count": 19,
   "id": "1d79d4a3",
   "metadata": {},
   "outputs": [],
   "source": [
    "# 1) no transformation used\n",
    "model=smf.ols(\"Salary~YearsExperience\",data=salary_data).fit()"
   ]
  },
  {
   "cell_type": "code",
   "execution_count": 20,
   "id": "b76120d3",
   "metadata": {},
   "outputs": [
    {
     "data": {
      "text/plain": [
       "<Axes: xlabel='YearsExperience', ylabel='Salary'>"
      ]
     },
     "execution_count": 20,
     "metadata": {},
     "output_type": "execute_result"
    },
    {
     "data": {
      "image/png": "[encoded data removed]",
      "text/plain": [
       "<Figure size 640x480 with 1 Axes>"
      ]
     },
     "metadata": {},
     "output_type": "display_data"
    }
   ],
   "source": [
    "# plot to see best fit line\n",
    "sns.regplot(x='YearsExperience',y='Salary',data=salary_data)"
   ]
  },
  {
   "cell_type": "code",
   "execution_count": 21,
   "id": "20b91526",
   "metadata": {},
   "outputs": [
    {
     "data": {
      "text/plain": [
       "Intercept          25792.200199\n",
       "YearsExperience     9449.962321\n",
       "dtype: float64"
      ]
     },
     "execution_count": 21,
     "metadata": {},
     "output_type": "execute_result"
    }
   ],
   "source": [
    "model.params"
   ]
  },
  {
   "cell_type": "code",
   "execution_count": 22,
   "id": "35d9ff94",
   "metadata": {},
   "outputs": [],
   "source": [
    "#linear equation is given by: salary= ((9449.962)*years experience)+(25792.2)"
   ]
  },
  {
   "cell_type": "code",
   "execution_count": 23,
   "id": "1e2c7e20",
   "metadata": {},
   "outputs": [
    {
     "data": {
      "text/plain": [
       "Intercept          11.346940\n",
       "YearsExperience    24.950094\n",
       "dtype: float64"
      ]
     },
     "execution_count": 23,
     "metadata": {},
     "output_type": "execute_result"
    }
   ],
   "source": [
    "model.tvalues"
   ]
  },
  {
   "cell_type": "code",
   "execution_count": 24,
   "id": "2f958051",
   "metadata": {},
   "outputs": [
    {
     "data": {
      "text/plain": [
       "Intercept          5.511950e-12\n",
       "YearsExperience    1.143068e-20\n",
       "dtype: float64"
      ]
     },
     "execution_count": 24,
     "metadata": {},
     "output_type": "execute_result"
    }
   ],
   "source": [
    "model.pvalues"
   ]
  },
  {
   "cell_type": "code",
   "execution_count": 25,
   "id": "1316b361",
   "metadata": {},
   "outputs": [],
   "source": [
    "# For Hypothesis Testing:\n",
    "# H0: There is no relation between years of experience and salary.\n",
    "# H1: There is relation between years of experience and salary.\n",
    "# Since, p value < 0.05 (significance level)\n",
    "# Therefore, we reject null hypothesis(H0)"
   ]
  },
  {
   "cell_type": "code",
   "execution_count": 26,
   "id": "de90f9e6",
   "metadata": {},
   "outputs": [
    {
     "data": {
      "text/plain": [
       "0.9569566641435086"
      ]
     },
     "execution_count": 26,
     "metadata": {},
     "output_type": "execute_result"
    }
   ],
   "source": [
    "model.rsquared # r square value between 0 and 1"
   ]
  },
  {
   "cell_type": "code",
   "execution_count": 27,
   "id": "c0092780",
   "metadata": {},
   "outputs": [
    {
     "data": {
      "text/plain": [
       "110841.861088"
      ]
     },
     "execution_count": 27,
     "metadata": {},
     "output_type": "execute_result"
    }
   ],
   "source": [
    "# prediction for existing data point\n",
    "salary_predict= ((9449.962321)*(9)+(25792.200199))\n",
    "salary_predict"
   ]
  },
  {
   "cell_type": "code",
   "execution_count": 28,
   "id": "10c21d2f",
   "metadata": {},
   "outputs": [],
   "source": [
    "# prediction for new data point\n",
    "new_salary_data=pd.Series([11,11.4])"
   ]
  },
  {
   "cell_type": "code",
   "execution_count": 29,
   "id": "532ac9a9",
   "metadata": {},
   "outputs": [
    {
     "data": {
      "text/html": [
       "<div>\n",
       "<style scoped>\n",
       "    .dataframe tbody tr th:only-of-type {\n",
       "        vertical-align: middle;\n",
       "    }\n",
       "\n",
       "    .dataframe tbody tr th {\n",
       "        vertical-align: top;\n",
       "    }\n",
       "\n",
       "    .dataframe thead th {\n",
       "        text-align: right;\n",
       "    }\n",
       "</style>\n",
       "<table border=\"1\" class=\"dataframe\">\n",
       "  <thead>\n",
       "    <tr style=\"text-align: right;\">\n",
       "      <th></th>\n",
       "      <th>YearsExperience</th>\n",
       "    </tr>\n",
       "  </thead>\n",
       "  <tbody>\n",
       "    <tr>\n",
       "      <th>0</th>\n",
       "      <td>11.0</td>\n",
       "    </tr>\n",
       "    <tr>\n",
       "      <th>1</th>\n",
       "      <td>11.4</td>\n",
       "    </tr>\n",
       "  </tbody>\n",
       "</table>\n",
       "</div>"
      ],
      "text/plain": [
       "   YearsExperience\n",
       "0             11.0\n",
       "1             11.4"
      ]
     },
     "execution_count": 29,
     "metadata": {},
     "output_type": "execute_result"
    }
   ],
   "source": [
    "newdata_pred=pd.DataFrame(new_salary_data,columns=['YearsExperience'])\n",
    "newdata_pred"
   ]
  },
  {
   "cell_type": "code",
   "execution_count": 30,
   "id": "03a6328c",
   "metadata": {},
   "outputs": [
    {
     "data": {
      "text/plain": [
       "0    129741.785735\n",
       "1    133521.770663\n",
       "dtype: float64"
      ]
     },
     "execution_count": 30,
     "metadata": {},
     "output_type": "execute_result"
    }
   ],
   "source": [
    "model.predict(newdata_pred)"
   ]
  },
  {
   "cell_type": "code",
   "execution_count": 32,
   "id": "5dfa621f",
   "metadata": {},
   "outputs": [],
   "source": [
    "# 2) log transformation \n",
    "trf=FunctionTransformer(func=np.log1p)"
   ]
  },
  {
   "cell_type": "code",
   "execution_count": 33,
   "id": "697a5e9d",
   "metadata": {},
   "outputs": [
    {
     "data": {
      "text/plain": [
       "0    0.741937\n",
       "1    0.832909\n",
       "2    0.916291\n",
       "3    1.098612\n",
       "4    1.163151\n",
       "Name: YearsExperience, dtype: float64"
      ]
     },
     "execution_count": 33,
     "metadata": {},
     "output_type": "execute_result"
    }
   ],
   "source": [
    "x_transformed=trf.fit_transform(salary_data['YearsExperience'])\n",
    "x_transformed.head()"
   ]
  },
  {
   "cell_type": "code",
   "execution_count": 34,
   "id": "41c8df1f",
   "metadata": {},
   "outputs": [],
   "source": [
    "transformed_model=smf.ols('Salary~x_transformed',data=salary_data).fit()"
   ]
  },
  {
   "cell_type": "code",
   "execution_count": 35,
   "id": "9c2caf40",
   "metadata": {},
   "outputs": [
    {
     "data": {
      "text/plain": [
       "Intercept       -16452.302277\n",
       "x_transformed    53271.412821\n",
       "dtype: float64"
      ]
     },
     "execution_count": 35,
     "metadata": {},
     "output_type": "execute_result"
    }
   ],
   "source": [
    "transformed_model.params"
   ]
  },
  {
   "cell_type": "code",
   "execution_count": 36,
   "id": "63401a7a",
   "metadata": {},
   "outputs": [
    {
     "data": {
      "text/plain": [
       "Intercept        -2.644069\n",
       "x_transformed    15.413104\n",
       "dtype: float64"
      ]
     },
     "execution_count": 36,
     "metadata": {},
     "output_type": "execute_result"
    }
   ],
   "source": [
    "transformed_model.tvalues"
   ]
  },
  {
   "cell_type": "code",
   "execution_count": 37,
   "id": "62707478",
   "metadata": {},
   "outputs": [
    {
     "data": {
      "text/plain": [
       "Intercept        1.327164e-02\n",
       "x_transformed    3.302453e-15\n",
       "dtype: float64"
      ]
     },
     "execution_count": 37,
     "metadata": {},
     "output_type": "execute_result"
    }
   ],
   "source": [
    "transformed_model.pvalues\n",
    "# Since p value is less than 0.05 (significance level)\n",
    "# Therefore, we reject null hypothesis(H0)"
   ]
  },
  {
   "cell_type": "code",
   "execution_count": 38,
   "id": "bfda61e0",
   "metadata": {},
   "outputs": [
    {
     "data": {
      "text/plain": [
       "0.8945639276190438"
      ]
     },
     "execution_count": 38,
     "metadata": {},
     "output_type": "execute_result"
    }
   ],
   "source": [
    "transformed_model.rsquared\n",
    "# r square value for log transformation is less than r square value with no transformation\n",
    "# log transformation is not used"
   ]
  },
  {
   "cell_type": "code",
   "execution_count": 39,
   "id": "b93f9b67",
   "metadata": {},
   "outputs": [],
   "source": [
    "# 3) Square transformation \n",
    "trf2=FunctionTransformer(func=np.square)"
   ]
  },
  {
   "cell_type": "code",
   "execution_count": 40,
   "id": "4d6fd6d1",
   "metadata": {},
   "outputs": [
    {
     "data": {
      "text/plain": [
       "0    1.21\n",
       "1    1.69\n",
       "2    2.25\n",
       "3    4.00\n",
       "4    4.84\n",
       "Name: YearsExperience, dtype: float64"
      ]
     },
     "execution_count": 40,
     "metadata": {},
     "output_type": "execute_result"
    }
   ],
   "source": [
    "x_transformed2=trf2.fit_transform(salary_data['YearsExperience'])\n",
    "x_transformed2.head()"
   ]
  },
  {
   "cell_type": "code",
   "execution_count": 41,
   "id": "fd75a44a",
   "metadata": {},
   "outputs": [],
   "source": [
    "transformed2_model=smf.ols('Salary~x_transformed2',data=salary_data).fit()"
   ]
  },
  {
   "cell_type": "code",
   "execution_count": 42,
   "id": "0ad37ff0",
   "metadata": {},
   "outputs": [
    {
     "data": {
      "text/plain": [
       "Intercept         48042.585515\n",
       "x_transformed2      776.318773\n",
       "dtype: float64"
      ]
     },
     "execution_count": 42,
     "metadata": {},
     "output_type": "execute_result"
    }
   ],
   "source": [
    "transformed2_model.params"
   ]
  },
  {
   "cell_type": "code",
   "execution_count": 43,
   "id": "0a0dd050",
   "metadata": {},
   "outputs": [
    {
     "data": {
      "text/plain": [
       "Intercept         21.973654\n",
       "x_transformed2    17.397015\n",
       "dtype: float64"
      ]
     },
     "execution_count": 43,
     "metadata": {},
     "output_type": "execute_result"
    }
   ],
   "source": [
    "transformed2_model.tvalues"
   ]
  },
  {
   "cell_type": "code",
   "execution_count": 44,
   "id": "cd280d2b",
   "metadata": {},
   "outputs": [
    {
     "data": {
      "text/plain": [
       "Intercept         3.389190e-19\n",
       "x_transformed2    1.518127e-16\n",
       "dtype: float64"
      ]
     },
     "execution_count": 44,
     "metadata": {},
     "output_type": "execute_result"
    }
   ],
   "source": [
    "transformed2_model.pvalues\n",
    "# Since p value is less than 0.05 (significance level)\n",
    "# Therefore, we reject null hypothesis(H0)"
   ]
  },
  {
   "cell_type": "code",
   "execution_count": 45,
   "id": "651e8f9d",
   "metadata": {},
   "outputs": [
    {
     "data": {
      "text/plain": [
       "0.9153198857852565"
      ]
     },
     "execution_count": 45,
     "metadata": {},
     "output_type": "execute_result"
    }
   ],
   "source": [
    "transformed2_model.rsquared\n",
    "# r square value is better, still less than r square value of no transformation\n",
    "# square transformation is not used"
   ]
  },
  {
   "cell_type": "code",
   "execution_count": 46,
   "id": "7a6b91ab",
   "metadata": {},
   "outputs": [],
   "source": [
    "# 4) square root transformation\n",
    "trf3=FunctionTransformer(func=np.sqrt)"
   ]
  },
  {
   "cell_type": "code",
   "execution_count": 47,
   "id": "82e9bac5",
   "metadata": {},
   "outputs": [
    {
     "data": {
      "text/plain": [
       "0    1.048809\n",
       "1    1.140175\n",
       "2    1.224745\n",
       "3    1.414214\n",
       "4    1.483240\n",
       "Name: YearsExperience, dtype: float64"
      ]
     },
     "execution_count": 47,
     "metadata": {},
     "output_type": "execute_result"
    }
   ],
   "source": [
    "x_transformed3=trf3.fit_transform(salary_data['YearsExperience'])\n",
    "x_transformed3.head()"
   ]
  },
  {
   "cell_type": "code",
   "execution_count": 48,
   "id": "1e35c604",
   "metadata": {},
   "outputs": [],
   "source": [
    "transformed3_model=smf.ols('Salary~x_transformed3',data=salary_data).fit()"
   ]
  },
  {
   "cell_type": "code",
   "execution_count": 49,
   "id": "1f5c5607",
   "metadata": {},
   "outputs": [
    {
     "data": {
      "text/plain": [
       "Intercept        -16055.769117\n",
       "x_transformed3    41500.680583\n",
       "dtype: float64"
      ]
     },
     "execution_count": 49,
     "metadata": {},
     "output_type": "execute_result"
    }
   ],
   "source": [
    "transformed3_model.params"
   ]
  },
  {
   "cell_type": "code",
   "execution_count": 50,
   "id": "6b035854",
   "metadata": {},
   "outputs": [
    {
     "data": {
      "text/plain": [
       "Intercept         -3.262308\n",
       "x_transformed3    19.437148\n",
       "dtype: float64"
      ]
     },
     "execution_count": 50,
     "metadata": {},
     "output_type": "execute_result"
    }
   ],
   "source": [
    "transformed3_model.tvalues"
   ]
  },
  {
   "cell_type": "code",
   "execution_count": 51,
   "id": "04e0dbc8",
   "metadata": {},
   "outputs": [
    {
     "data": {
      "text/plain": [
       "Intercept         2.906965e-03\n",
       "x_transformed3    8.565358e-18\n",
       "dtype: float64"
      ]
     },
     "execution_count": 51,
     "metadata": {},
     "output_type": "execute_result"
    }
   ],
   "source": [
    "transformed3_model.pvalues\n",
    "# Since p value is less than 0.05 (significance level)\n",
    "# Therefore, we reject null hypothesis(H0)"
   ]
  },
  {
   "cell_type": "code",
   "execution_count": 52,
   "id": "73b15938",
   "metadata": {},
   "outputs": [
    {
     "data": {
      "text/plain": [
       "0.9310009544993526"
      ]
     },
     "execution_count": 52,
     "metadata": {},
     "output_type": "execute_result"
    }
   ],
   "source": [
    "transformed3_model.rsquared\n",
    "# r square value is better, still less than r square value of no transformation\n",
    "# square root transformation is not used"
   ]
  },
  {
   "cell_type": "code",
   "execution_count": 53,
   "id": "37b6a209",
   "metadata": {},
   "outputs": [],
   "source": [
    "# 5) cube root transformation\n",
    "trf4=FunctionTransformer(func=np.cbrt)"
   ]
  },
  {
   "cell_type": "code",
   "execution_count": 54,
   "id": "e30b3932",
   "metadata": {},
   "outputs": [
    {
     "data": {
      "text/plain": [
       "0    1.032280\n",
       "1    1.091393\n",
       "2    1.144714\n",
       "3    1.259921\n",
       "4    1.300591\n",
       "Name: YearsExperience, dtype: float64"
      ]
     },
     "execution_count": 54,
     "metadata": {},
     "output_type": "execute_result"
    }
   ],
   "source": [
    "x_transformed4=trf4.fit_transform(salary_data['YearsExperience'])\n",
    "x_transformed4.head()"
   ]
  },
  {
   "cell_type": "code",
   "execution_count": 55,
   "id": "6dfe99a8",
   "metadata": {},
   "outputs": [],
   "source": [
    "transformed4_model=smf.ols('Salary~x_transformed4',data=salary_data).fit()"
   ]
  },
  {
   "cell_type": "code",
   "execution_count": 56,
   "id": "3616d76e",
   "metadata": {},
   "outputs": [
    {
     "data": {
      "text/plain": [
       "Intercept        -57049.503555\n",
       "x_transformed4    78964.327230\n",
       "dtype: float64"
      ]
     },
     "execution_count": 56,
     "metadata": {},
     "output_type": "execute_result"
    }
   ],
   "source": [
    "transformed4_model.params"
   ]
  },
  {
   "cell_type": "code",
   "execution_count": 57,
   "id": "62d17374",
   "metadata": {},
   "outputs": [
    {
     "data": {
      "text/plain": [
       "Intercept         -7.140530\n",
       "x_transformed4    16.961897\n",
       "dtype: float64"
      ]
     },
     "execution_count": 57,
     "metadata": {},
     "output_type": "execute_result"
    }
   ],
   "source": [
    "transformed4_model.tvalues"
   ]
  },
  {
   "cell_type": "code",
   "execution_count": 58,
   "id": "9fb4f5d9",
   "metadata": {},
   "outputs": [
    {
     "data": {
      "text/plain": [
       "Intercept         9.043071e-08\n",
       "x_transformed4    2.907409e-16\n",
       "dtype: float64"
      ]
     },
     "execution_count": 58,
     "metadata": {},
     "output_type": "execute_result"
    }
   ],
   "source": [
    "transformed4_model.pvalues\n",
    "# Since p value is less than 0.05 (significance level)\n",
    "# Therefore, we reject null hypothesis(H0)"
   ]
  },
  {
   "cell_type": "code",
   "execution_count": 59,
   "id": "dbcc1270",
   "metadata": {},
   "outputs": [
    {
     "data": {
      "text/plain": [
       "0.9113098800320786"
      ]
     },
     "execution_count": 59,
     "metadata": {},
     "output_type": "execute_result"
    }
   ],
   "source": [
    "transformed4_model.rsquared\n",
    "# r square value is better, still less than r square value of no transformation\n",
    "# cube root transformation is not used"
   ]
  },
  {
   "cell_type": "code",
   "execution_count": null,
   "id": "4a8b87fa",
   "metadata": {},
   "outputs": [],
   "source": []
  }
 ],
 "metadata": {
  "kernelspec": {
   "display_name": "Python 3 (ipykernel)",
   "language": "python",
   "name": "python3"
  },
  "language_info": {
   "codemirror_mode": {
    "name": "ipython",
    "version": 3
   },
   "file_extension": ".py",
   "mimetype": "text/x-python",
   "name": "python",
   "nbconvert_exporter": "python",
   "pygments_lexer": "ipython3",
   "version": "3.11.3"
  }
 },
 "nbformat": 4,
 "nbformat_minor": 5
}
